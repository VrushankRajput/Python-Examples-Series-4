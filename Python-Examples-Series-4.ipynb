{
 "cells": [
  {
   "cell_type": "code",
   "execution_count": 1,
   "metadata": {},
   "outputs": [
    {
     "name": "stdout",
     "output_type": "stream",
     "text": [
      "4\n"
     ]
    }
   ],
   "source": [
    "# Dynamic Programming Python implementation of Coin  \n",
    "# Change problem \n",
    "def count(S, m, n): \n",
    "    # We need n+1 rows as the table is constructed  \n",
    "    # in bottom up manner using the base case 0 value \n",
    "    # case (n = 0) \n",
    "    table = [[0 for x in range(m)] for x in range(n+1)] \n",
    "  \n",
    "    # Fill the entries for 0 value case (n = 0) \n",
    "    for i in range(m): \n",
    "        table[0][i] = 1\n",
    "  \n",
    "    # Fill rest of the table entries in bottom up manner \n",
    "    for i in range(1, n+1): \n",
    "        for j in range(m): \n",
    "  \n",
    "            # Count of solutions including S[j] \n",
    "            x = table[i - S[j]][j] if i-S[j] >= 0 else 0\n",
    "  \n",
    "            # Count of solutions excluding S[j] \n",
    "            y = table[i][j-1] if j >= 1 else 0\n",
    "  \n",
    "            # total count \n",
    "            table[i][j] = x + y \n",
    "  \n",
    "    return table[n][m-1] \n",
    "  \n",
    "# Driver program to test above function \n",
    "arr = [1, 2, 3] \n",
    "m = len(arr) \n",
    "n = 4\n",
    "print(count(arr, m, n))"
   ]
  },
  {
   "cell_type": "code",
   "execution_count": 8,
   "metadata": {},
   "outputs": [
    {
     "name": "stdout",
     "output_type": "stream",
     "text": [
      "Move disk 1 from rod A to rod B\n",
      "Move disk 2 from rod A to rod C\n",
      "Move disk 1 from rod B to rod C\n",
      "Move disk 3 from rod A to rod B\n",
      "Move disk 1 from rod C to rod A\n",
      "Move disk 2 from rod C to rod B\n",
      "Move disk 1 from rod A to rod B\n",
      "Move disk 4 from rod A to rod C\n",
      "Move disk 1 from rod B to rod C\n",
      "Move disk 2 from rod B to rod A\n",
      "Move disk 1 from rod C to rod A\n",
      "Move disk 3 from rod B to rod C\n",
      "Move disk 1 from rod A to rod B\n",
      "Move disk 2 from rod A to rod C\n",
      "Move disk 1 from rod B to rod C\n"
     ]
    }
   ],
   "source": [
    "# Recursive Python function to solve tower of hanoi \n",
    "  \n",
    "def TowerOfHanoi(n , from_rod, to_rod, aux_rod): \n",
    "    if n == 1: \n",
    "        print (\"Move disk 1 from rod\",from_rod,\"to rod\",to_rod) \n",
    "        return\n",
    "    TowerOfHanoi(n-1, from_rod, aux_rod, to_rod) \n",
    "    print (\"Move disk\",n,\"from rod\",from_rod,\"to rod\",to_rod) \n",
    "    TowerOfHanoi(n-1, aux_rod, to_rod, from_rod) \n",
    "          \n",
    "# Driver code \n",
    "n = 4\n",
    "TowerOfHanoi(n, 'A', 'C', 'B')\n",
    "# A, C, B are the name of rods "
   ]
  },
  {
   "cell_type": "code",
   "execution_count": 10,
   "metadata": {},
   "outputs": [
    {
     "name": "stdout",
     "output_type": "stream",
     "text": [
      "Following are the prime numbers smaller\n",
      "than or equal to 30\n",
      "2\n",
      "3\n",
      "5\n",
      "7\n",
      "11\n",
      "13\n",
      "17\n",
      "19\n",
      "23\n",
      "29\n"
     ]
    }
   ],
   "source": [
    "# Python program to print all primes smaller than or equal to \n",
    "# n using Sieve of Eratosthenes \n",
    "  \n",
    "def SieveOfEratosthenes(n): \n",
    "      \n",
    "    # Create a boolean array \"prime[0..n]\" and initialize \n",
    "    # all entries it as true. A value in prime[i] will \n",
    "    # finally be false if i is Not a prime, else true. \n",
    "    prime = [True for i in range(n + 1)] \n",
    "    p = 2\n",
    "    while (p * p <= n): \n",
    "          \n",
    "        # If prime[p] is not changed, then it is a prime \n",
    "        if (prime[p] == True): \n",
    "              \n",
    "            # Update all multiples of p \n",
    "            for i in range(p * 2, n + 1, p): \n",
    "                prime[i] = False\n",
    "        p += 1\n",
    "    prime[0]= False\n",
    "    prime[1]= False\n",
    "    # Print all prime numbers \n",
    "    for p in range(n + 1): \n",
    "        if prime[p]: \n",
    "            print (p), \n",
    "  \n",
    "# driver program \n",
    "if __name__=='__main__': \n",
    "    n = 30\n",
    "    print (\"Following are the prime numbers smaller\",)\n",
    "    print (\"than or equal to\", n) \n",
    "    SieveOfEratosthenes(n) "
   ]
  },
  {
   "cell_type": "code",
   "execution_count": 11,
   "metadata": {},
   "outputs": [
    {
     "name": "stdout",
     "output_type": "stream",
     "text": [
      "gcd( 10 , 15 ) =  5\n",
      "gcd( 35 , 10 ) =  5\n",
      "gcd( 31 , 2 ) =  1\n"
     ]
    }
   ],
   "source": [
    "# Python program to demonstrate Basic Euclidean Algorithm \n",
    "  \n",
    "  \n",
    "# Function to return gcd of a and b \n",
    "def gcd(a, b):  \n",
    "    if a == 0 : \n",
    "        return b  \n",
    "      \n",
    "    return gcd(b%a, a) \n",
    "  \n",
    "a = 10\n",
    "b = 15\n",
    "print(\"gcd(\", a , \",\" , b, \") = \", gcd(a, b)) \n",
    "  \n",
    "a = 35\n",
    "b = 10\n",
    "print(\"gcd(\", a , \",\" , b, \") = \", gcd(a, b)) \n",
    "  \n",
    "a = 31\n",
    "b = 2\n",
    "print(\"gcd(\", a , \",\" , b, \") = \", gcd(a, b)) "
   ]
  },
  {
   "cell_type": "code",
   "execution_count": 12,
   "metadata": {},
   "outputs": [
    {
     "name": "stdout",
     "output_type": "stream",
     "text": [
      "gcd( 35 , 15 ) =  5\n"
     ]
    }
   ],
   "source": [
    "# Python program to demonstrate working of extended \n",
    "# Euclidean Algorithm \n",
    "  \n",
    "# function for extended Euclidean Algorithm \n",
    "def gcdExtended(a, b, x, y): \n",
    "    # Base Case \n",
    "    if a == 0 :  \n",
    "        x = 0\n",
    "        y = 1\n",
    "        return b \n",
    "          \n",
    "    x1 = 1\n",
    "    y1 = 1 # To store results of recursive call \n",
    "    gcd = gcdExtended(b%a, a, x1, y1) \n",
    "  \n",
    "    # Update x and y using results of recursive \n",
    "    # call \n",
    "    x = y1 - (b/a) * x1 \n",
    "    y = x1 \n",
    "  \n",
    "    return gcd \n",
    "  \n",
    "  \n",
    "x = 1\n",
    "y = 1\n",
    "a = 35\n",
    "b = 15\n",
    "g = gcdExtended(a, b, x, y) \n",
    "print(\"gcd(\", a , \",\" , b, \") = \", g) "
   ]
  },
  {
   "cell_type": "code",
   "execution_count": 13,
   "metadata": {},
   "outputs": [
    {
     "name": "stdout",
     "output_type": "stream",
     "text": [
      "126\n"
     ]
    }
   ],
   "source": [
    "# Python code to calculate number \n",
    "# of ways of selecting \\'p\\' non  \n",
    "# consecutive stations out of  \n",
    "# \\'n\\' stations \n",
    "  \n",
    "def stopping_station( p, n): \n",
    "    num = 1\n",
    "    dem = 1\n",
    "    s = p \n",
    "  \n",
    "    # selecting \\'s\\' positions \n",
    "    # out of \\'n-s+1\\' \n",
    "    while p != 1: \n",
    "        dem *= p \n",
    "        p-=1\n",
    "      \n",
    "    t = n - s + 1\n",
    "    while t != (n-2 * s + 1): \n",
    "        num *= t \n",
    "        t-=1\n",
    "    if (n - s + 1) >= s: \n",
    "        return int(num/dem) \n",
    "    else: \n",
    "        # if conditions does not \n",
    "        # satisfy of combinatorics \n",
    "        return -1\n",
    "  \n",
    "# driver code  \n",
    "num = stopping_station(4, 12) \n",
    "if num != -1: \n",
    "    print(num) \n",
    "else: \n",
    "    print(\"Not Possible\") "
   ]
  },
  {
   "cell_type": "code",
   "execution_count": 14,
   "metadata": {},
   "outputs": [
    {
     "name": "stdout",
     "output_type": "stream",
     "text": [
      "3.18\n"
     ]
    }
   ],
   "source": [
    "# Python code to find the volume of a tetrahedron \n",
    "import math \n",
    "def vol_tetra(side): \n",
    "    volume = (side ** 3 / (6 * math.sqrt(2))) \n",
    "    return round(volume, 2) \n",
    "  \n",
    "# Driver Code \n",
    "side = 3\n",
    "vol = vol_tetra(side) \n",
    "print(vol) "
   ]
  },
  {
   "cell_type": "code",
   "execution_count": 15,
   "metadata": {},
   "outputs": [
    {
     "name": "stdout",
     "output_type": "stream",
     "text": [
      "84\n"
     ]
    }
   ],
   "source": [
    "# Python program to find X-th triangular \n",
    "# matchstick number \n",
    "  \n",
    "def numberOfSticks(x): \n",
    "    return (3 * x * (x + 1)) / 2\n",
    "      \n",
    "# main() \n",
    "print(int(numberOfSticks(7))) "
   ]
  },
  {
   "cell_type": "code",
   "execution_count": 16,
   "metadata": {},
   "outputs": [
    {
     "name": "stdout",
     "output_type": "stream",
     "text": [
      "True\n"
     ]
    }
   ],
   "source": [
    "def isUniqueChars(st): \n",
    "  \n",
    "    # String length cannot be more than \n",
    "    # 256. \n",
    "    if len(st) > 256: \n",
    "        return False\n",
    "  \n",
    "    # Initialize occurrences of all characters \n",
    "    char_set = [False] * 128\n",
    "  \n",
    "    # For every character, check if it exists \n",
    "    # in char_set \n",
    "    for i in range(0, len(st)): \n",
    "  \n",
    "        # Find ASCII value and check if it \n",
    "        # exists in set. \n",
    "        val = ord(st[i]) \n",
    "        if char_set[val]: \n",
    "            return False\n",
    "  \n",
    "        char_set[val] = True\n",
    "  \n",
    "    return True\n",
    "  \n",
    "# driver code \n",
    "st = \"abcd\"\n",
    "print(isUniqueChars(st))"
   ]
  },
  {
   "cell_type": "code",
   "execution_count": 17,
   "metadata": {},
   "outputs": [
    {
     "name": "stdout",
     "output_type": "stream",
     "text": [
      "Primes in the range  2500  and  2601  are:\n",
      "2503\n",
      "2521\n",
      "2531\n",
      "2539\n",
      "2543\n",
      "2549\n",
      "2551\n",
      "2557\n",
      "2579\n",
      "2591\n",
      "2593\n"
     ]
    }
   ],
   "source": [
    "# Python program to verify Legendre\\'s Conjecture \n",
    "# for a given n \n",
    "  \n",
    "import math  \n",
    "  \n",
    "def isprime( n ): \n",
    "      \n",
    "    i = 2\n",
    "    for i in range (2, int((math.sqrt(n)+1))): \n",
    "        if n%i == 0: \n",
    "            return False\n",
    "    return True\n",
    "      \n",
    "def LegendreConjecture( n ): \n",
    "    print ( \"Primes in the range \", n*n \n",
    "            , \" and \", (n+1)*(n+1) \n",
    "            , \" are:\" ) \n",
    "              \n",
    "      \n",
    "    for i in range (n*n, (((n+1)*(n+1))+1)): \n",
    "        if(isprime(i)): \n",
    "            print (i) \n",
    "              \n",
    "n = 50\n",
    "LegendreConjecture(n) "
   ]
  },
  {
   "cell_type": "code",
   "execution_count": null,
   "metadata": {},
   "outputs": [],
   "source": []
  }
 ],
 "metadata": {
  "kernelspec": {
   "display_name": "Python 3",
   "language": "python",
   "name": "python3"
  },
  "language_info": {
   "codemirror_mode": {
    "name": "ipython",
    "version": 3
   },
   "file_extension": ".py",
   "mimetype": "text/x-python",
   "name": "python",
   "nbconvert_exporter": "python",
   "pygments_lexer": "ipython3",
   "version": "3.7.4"
  }
 },
 "nbformat": 4,
 "nbformat_minor": 2
}
